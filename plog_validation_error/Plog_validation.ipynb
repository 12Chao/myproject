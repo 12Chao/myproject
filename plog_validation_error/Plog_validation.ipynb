{
 "cells": [
  {
   "cell_type": "markdown",
   "metadata": {},
   "source": [
    "# This notebook discribes the problems during plog reaction validation improvement"
   ]
  },
  {
   "cell_type": "markdown",
   "metadata": {},
   "source": [
    "As we suggested on [enhancement repo #42](https://github.com/Cantera/enhancements/issues/42#issuecomment-641341008), I am trying to change the Cantera PLOG reaction validation function to raise all the invalid reactions and their invalid conditions from the source code to replace the python function we built before. The revised code is posted on the [forked repo](https://github.com/12Chao/cantera/blob/d8a5df25dc4849292576e73b085f2224817e9848/src/kinetics/RxnRates.cpp#L91). Below is the discription of the problems.\n",
    "    "
   ]
  },
  {
   "cell_type": "markdown",
   "metadata": {},
   "source": [
    "There are 2 problematic PLOG reactions in the input [yaml file](https://github.com/12Chao/myproject/blob/master/plog_validation_error/PLOG.yaml) as shown below, the first reation has negative sum of reaction rate coefficients at 1 atm, 500K and 1000k; 3.16 atm, 200K, 500K, 1000K, 2000K, 5000K, 10000K(all the temperature points). The second reaction is invalid at 100 atm, 500K. \n",
    "\n",
    "My expectation is to raise a `CanteraError` to throw an error including all these invalid reations and their conditions. From my initial thought, I was trying to create a string vector from where the iteration of all the PLOG reactions starts, and change the `Plog::validate` to add the error message to that vector if a validation failed instead throw the `CanteraError` right away. Then throw all the strings in the vector if the vector is not empty when the iteration ends. However, I did not find that kind of iteration of all the PLOG reactions in the source code. The `Plog::validate` is defined in `RxnRates.cpp` line 91 and called in `Reaction.cpp` line 737, but it seems that there is no obvious 'iteration' like a `for loop`, so **my question is how all the `Plog reactions` get validated? If it is feasible to handle the error like I metioned above?**"
   ]
  },
  {
   "cell_type": "markdown",
   "metadata": {},
   "source": [
    "\n",
    "- equation: CH2CHOO <=> CO + CH3O  # Reaction 566\n",
    "  type: pressure-dependent-Arrhenius\n",
    "  rate-constants:\n",
    "  - {P: 0.01 atm, A: 5.2e+33, b: -7.92, Ea: 3.132e+04}\n",
    "  - {P: 0.01 atm, A: 2.31e+129, b: -41.86, Ea: 4.585e+04}\n",
    "  - {P: 0.1 atm, A: 1.26e+98, b: -27.09, Ea: 6.406e+04}\n",
    "  - {P: 0.1 atm, A: 2.42e+28, b: -5.99, Ea: 3.054e+04}\n",
    "  - {P: 0.316 atm, A: 1.8e+33, b: -7.27, Ea: 3.376e+04}\n",
    "  - {P: 0.316 atm, A: 8.69e-50, b: 16.63, Ea: -3900.0}\n",
    "  - <span style=\"color: red\">{P: 1.0 atm, A: -3.83e+33, b: -7.2, Ea: 3.51e+04}</span>\n",
    "  - <span style=\"color: red\">{P: 1.0 atm, A: 1.19e-39, b: 13.61, Ea: -1317.0}</span>\n",
    "  - <span style=\"color: red\">{P: 3.16 atm, A: -1.28e+79, b: -19.61, Ea: 7.487e+04}</span>\n",
    "  - <span style=\"color: red\">{P: 3.16 atm, A: -8.8e+86, b: -23.08, Ea: 6.101e+04}</span>\n",
    "  - {P: 10.0 atm, A: 4.07e+32, b: -6.62, Ea: 3.721e+04}\n",
    "  - {P: 10.0 atm, A: 1270.0, b: 1.44, Ea: 1.866e+04}\n",
    "  - {P: 31.6 atm, A: 6.86e+44, b: -10.04, Ea: 4.703e+04}\n",
    "  - {P: 31.6 atm, A: 1.97e+17, b: -2.23, Ea: 2.859e+04}\n",
    "  - {P: 100.0 atm, A: -1.07e+04, b: 1.33, Ea: 1.562e+04}\n",
    "  - {P: 100.0 atm, A: 1.16e-07, b: 4.81, Ea: 1.201e+04}\n",
    "  note: 'Goldsmith et al., 2015, J. Phys. Chem. A 2015, 119, 7766-7779 (DOI:\n",
    "    10.1021/acs.jpca.5b01088)'\n",
    "- equation: CH2CHOO <=> CO2 + CH3  # Reaction 567\n",
    "  type: pressure-dependent-Arrhenius\n",
    "  rate-constants:\n",
    "  - {P: 0.01 atm, A: 5.09e+33, b: -7.95, Ea: 3.129e+04}\n",
    "  - {P: 0.01 atm, A: 4.2e+122, b: -39.75, Ea: 4.364e+04}\n",
    "  - {P: 0.1 atm, A: 1.21e+118, b: -33.13, Ea: 7.379e+04}\n",
    "  - {P: 0.1 atm, A: 1.96e+29, b: -6.29, Ea: 3.092e+04}\n",
    "  - {P: 0.316 atm, A: 8.56e+32, b: -7.21, Ea: 3.355e+04}\n",
    "  - {P: 0.316 atm, A: 5.1e-66, b: 21.37, Ea: -1.111e+04}\n",
    "  - {P: 1.0 atm, A: 3.27e+33, b: -7.22, Ea: 3.499e+04}\n",
    "  - {P: 1.0 atm, A: 1.76e-47, b: 15.85, Ea: -5283.0}\n",
    "  - {P: 3.16 atm, A: 3.49e-79, b: 25.01, Ea: -2.102e+04}\n",
    "  - {P: 3.16 atm, A: 3.82e+32, b: -6.8, Ea: 3.569e+04}\n",
    "  - {P: 10.0 atm, A: 8.16e+32, b: -6.76, Ea: 3.727e+04}\n",
    "  - {P: 10.0 atm, A: 4.62, b: 2.1, Ea: 1.717e+04}\n",
    "  - {P: 31.6 atm, A: 7.01e+37, b: -8.06, Ea: 4.22e+04}\n",
    "  - {P: 31.6 atm, A: 3.49e+14, b: -1.58, Ea: 2.647e+04}\n",
    "  - <span style=\"color: red\">{P: 100.0 atm, A: -2510.0, b: 1.41, Ea: 1.442e+04}</span>\n",
    "  - <span style=\"color: red\">{P: 100.0 atm, A: 4.05e-09, b: 5.14, Ea: 1.048e+04}</span>\n"
   ]
  },
  {
   "cell_type": "markdown",
   "metadata": {},
   "source": [
    "## To verify the negative reaction rate coefficients"
   ]
  },
  {
   "cell_type": "code",
   "execution_count": 1,
   "metadata": {},
   "outputs": [],
   "source": [
    "import math\n",
    "R = 1.98720425864083\n",
    "def k(arrhenius_parameters, T):\n",
    "    rate_constant = arrhenius_parameters['A'] * (T ** arrhenius_parameters['b']) * math.exp(-arrhenius_parameters['Ea']/T/R)\n",
    "    return(rate_constant)\n",
    "def throw_invalid_reactions(arr1, arr2, temperature_range, equation):\n",
    "    for t in temperature_range:\n",
    "        k1 = arr1['A'] * (t ** arr1['b']) * math.exp(-arr1['Ea']/t/R)\n",
    "        k2 = arr2['A'] * (t ** arr2['b']) * math.exp(-arr2['Ea']/t/R)\n",
    "        if k1+k2 < 0:\n",
    "            print('{} has invalid reaction rate coefficient {} at \\nP = {} atm,T = {}'.format(equation, k1+k2, arr1['P'], t))"
   ]
  },
  {
   "cell_type": "code",
   "execution_count": 2,
   "metadata": {},
   "outputs": [
    {
     "name": "stdout",
     "output_type": "stream",
     "text": [
      "CH2CHOO <=> CO + CH3O has invalid reaction rate coefficient -0.04015566549862874 at \n",
      "P = 1.0 atm,T = 500\n",
      "CH2CHOO <=> CO + CH3O has invalid reaction rate coefficient -20367.48086706905 at \n",
      "P = 1.0 atm,T = 1000\n",
      "================================\n",
      "CH2CHOO <=> CO + CH3O has invalid reaction rate coefficient -1.4771200414049596e-33 at \n",
      "P = 3.16 atm,T = 200\n",
      "CH2CHOO <=> CO + CH3O has invalid reaction rate coefficient -0.009668296450743921 at \n",
      "P = 3.16 atm,T = 500\n",
      "CH2CHOO <=> CO + CH3O has invalid reaction rate coefficient -31714.568070527945 at \n",
      "P = 3.16 atm,T = 1000\n",
      "CH2CHOO <=> CO + CH3O has invalid reaction rate coefficient -1571000.9902456335 at \n",
      "P = 3.16 atm,T = 2000\n",
      "CH2CHOO <=> CO + CH3O has invalid reaction rate coefficient -1985.7563712502777 at \n",
      "P = 3.16 atm,T = 5000\n",
      "CH2CHOO <=> CO + CH3O has invalid reaction rate coefficient -0.10738926054236393 at \n",
      "P = 3.16 atm,T = 10000\n",
      "=================================\n",
      "CH2CHOO <=> CO2 + CH3 has invalid reaction rate coefficient -0.053561302341967654 at \n",
      "P = 100.0 atm,T = 500\n"
     ]
    }
   ],
   "source": [
    "equation1 = 'CH2CHOO <=> CO + CH3O'\n",
    "arrhenius_1 = {'P': 1.0, 'A': -3.83e+33, 'b': -7.2, 'Ea': 3.51e+04}\n",
    "arrhenius_2 = {'P': 1.0, 'A': 1.19e-39, 'b': 13.61, 'Ea': -1317.0}\n",
    "arr_3 = {'P': 3.16, 'A': -1.28e+79, 'b': -19.61, 'Ea': 7.487e+04}\n",
    "arr_4 = {'P': 3.16, 'A': -8.8e+86, 'b': -23.08, 'Ea': 6.101e+04}\n",
    "\n",
    "equation2 = 'CH2CHOO <=> CO2 + CH3'\n",
    "arr_5 = {'P': 100.0, 'A': -2510.0, 'b': 1.41, 'Ea': 1.442e+04}\n",
    "arr_6 = {'P': 100.0, 'A': 4.05e-09, 'b': 5.14, 'Ea': 1.048e+04}\n",
    "\n",
    "T = [200, 500, 1000, 2000, 5000, 10000]\n",
    "throw_invalid_reactions(arrhenius_1, arrhenius_2, T, equation1)\n",
    "print('================================')\n",
    "throw_invalid_reactions(arr_3, arr_4, T, equation1)\n",
    "print('=================================')\n",
    "throw_invalid_reactions(arr_5, arr_6, T, equation2)"
   ]
  },
  {
   "cell_type": "markdown",
   "metadata": {},
   "source": [
    "To compromise, `warn_user` is temporarily used to throw a warning instead a `CanteraError` so that all the problematic reactions get raised. But another problem is that I have some redundant error messages involving the reaction conditions with valid reaction rate coefficients. The error messages are shown as below:"
   ]
  },
  {
   "cell_type": "markdown",
   "metadata": {},
   "source": [
    "## This is the error message before the change"
   ]
  },
  {
   "cell_type": "code",
   "execution_count": 3,
   "metadata": {},
   "outputs": [],
   "source": [
    "import sys\n",
    "sys.executable = '/home/chao/anaconda3/envs/cantera38/lib/python3.8/site-packages'\n",
    "python_path = ['', '/home/chao/RMG-Py', '/home/chao', '/home/chao/anaconda3/envs/cantera38/lib/python38.zip', '/home/chao/anaconda3/envs/cantera38/lib/python3.8', '/home/chao/anaconda3/envs/cantera38/lib/python3.8/lib-dynload', '/home/chao/anaconda3/envs/cantera38/lib/python3.8/site-packages']\n",
    "for path in python_path:\n",
    "    sys.path.append(path)\n",
    "import cantera as ct"
   ]
  },
  {
   "cell_type": "code",
   "execution_count": 4,
   "metadata": {
    "scrolled": true
   },
   "outputs": [
    {
     "name": "stdout",
     "output_type": "stream",
     "text": [
      "CanteraWarning: NasaPoly2::validate: \n",
      "For species HOCHO, discontinuity in h/RT detected at Tmid = 1000.0\n",
      "\tValue computed using low-temperature polynomial:  -40.36035916666667\n",
      "\tValue computed using high-temperature polynomial: -38.16786118416666\n",
      "\n"
     ]
    },
    {
     "ename": "CanteraError",
     "evalue": "\n***********************************************************************\nCanteraError thrown by Plog::validate:\nInvalid rate coefficient for reaction 'CH2CHOO <=> CH3O + CO'\nat P = 101324.99999999999, T = 500.0\n***********************************************************************\n",
     "output_type": "error",
     "traceback": [
      "\u001b[0;31m---------------------------------------------------------------------------\u001b[0m",
      "\u001b[0;31mCanteraError\u001b[0m                              Traceback (most recent call last)",
      "\u001b[0;32m<ipython-input-4-11596f23dc04>\u001b[0m in \u001b[0;36m<module>\u001b[0;34m\u001b[0m\n\u001b[0;32m----> 1\u001b[0;31m \u001b[0mct\u001b[0m\u001b[0;34m.\u001b[0m\u001b[0mSolution\u001b[0m\u001b[0;34m(\u001b[0m\u001b[0;34m'/home/chao/cc_test/PLOG.yaml'\u001b[0m\u001b[0;34m)\u001b[0m\u001b[0;34m\u001b[0m\u001b[0;34m\u001b[0m\u001b[0m\n\u001b[0m",
      "\u001b[0;32minterfaces/cython/cantera/base.pyx\u001b[0m in \u001b[0;36mcantera._cantera._SolutionBase.__cinit__\u001b[0;34m()\u001b[0m\n",
      "\u001b[0;32minterfaces/cython/cantera/base.pyx\u001b[0m in \u001b[0;36mcantera._cantera._SolutionBase._init_yaml\u001b[0;34m()\u001b[0m\n",
      "\u001b[0;31mCanteraError\u001b[0m: \n***********************************************************************\nCanteraError thrown by Plog::validate:\nInvalid rate coefficient for reaction 'CH2CHOO <=> CH3O + CO'\nat P = 101324.99999999999, T = 500.0\n***********************************************************************\n"
     ]
    }
   ],
   "source": [
    "ct.Solution('/home/chao/cc_test/PLOG.yaml')"
   ]
  },
  {
   "cell_type": "markdown",
   "metadata": {},
   "source": [
    "## This is the error message after change"
   ]
  },
  {
   "cell_type": "code",
   "execution_count": 1,
   "metadata": {},
   "outputs": [],
   "source": [
    "import sys\n",
    "sys.executable = '/home/chao/anaconda3/envs/cantera38/lib/python3.8/site-packages'\n",
    "python_path = ['/home/chao/cantera/build/python', '/home/chao/RMG-Py', '/home/chao', '/home/chao/anaconda3/envs/cantera38/lib/python38.zip', '/home/chao/anaconda3/envs/cantera38/lib/python3.8', '/home/chao/anaconda3/envs/cantera38/lib/python3.8/lib-dynload', '/home/chao/anaconda3/envs/cantera38/lib/python3.8/site-packages']\n",
    "for path in python_path:\n",
    "    sys.path.append(path)\n",
    "import cantera as ct"
   ]
  },
  {
   "cell_type": "code",
   "execution_count": 2,
   "metadata": {
    "scrolled": true
   },
   "outputs": [
    {
     "name": "stdout",
     "output_type": "stream",
     "text": [
      "CanteraWarning: NasaPoly2::validate: \n",
      "For species HOCHO, discontinuity in h/RT detected at Tmid = 1000.0\n",
      "\tValue computed using low-temperature polynomial:  -40.36035916666667\n",
      "\tValue computed using high-temperature polynomial: -38.16786118416666\n",
      "\n",
      "CanteraWarning: Plog::validate: \n",
      "\n",
      "Invalid rate coefficient for reaction 'CH2CHOO <=> CH3O + CO'\n",
      "at P = 101324.99999999999 , T = 500.0\n",
      "Invalid rate coefficient for reaction 'CH2CHOO <=> CH3O + CO'\n",
      "at P = 101324.99999999999 , T = 1000.0\n",
      "Invalid rate coefficient for reaction 'CH2CHOO <=> CH3O + CO'\n",
      "at P = 320187.0000000002 , T = 200.0\n",
      "Invalid rate coefficient for reaction 'CH2CHOO <=> CH3O + CO'\n",
      "at P = 320187.0000000002 , T = 500.0\n",
      "Invalid rate coefficient for reaction 'CH2CHOO <=> CH3O + CO'\n",
      "at P = 320187.0000000002 , T = 1000.0\n",
      "Invalid rate coefficient for reaction 'CH2CHOO <=> CH3O + CO'\n",
      "at P = 320187.0000000002 , T = 2000.0\n",
      "Invalid rate coefficient for reaction 'CH2CHOO <=> CH3O + CO'\n",
      "at P = 320187.0000000002 , T = 5000.0\n",
      "Invalid rate coefficient for reaction 'CH2CHOO <=> CH3O + CO'\n",
      "at P = 320187.0000000002 , T = 10000.0\n",
      "Invalid rate coefficient for reaction 'CH2CHOO <=> CH3O + CO'\n",
      "at P = 1013249.9999999992 , T = 200.0\n",
      "Invalid rate coefficient for reaction 'CH2CHOO <=> CH3O + CO'\n",
      "at P = 1013249.9999999992 , T = 500.0\n",
      "Invalid rate coefficient for reaction 'CH2CHOO <=> CH3O + CO'\n",
      "at P = 1013249.9999999992 , T = 1000.0\n",
      "Invalid rate coefficient for reaction 'CH2CHOO <=> CH3O + CO'\n",
      "at P = 1013249.9999999992 , T = 2000.0\n",
      "Invalid rate coefficient for reaction 'CH2CHOO <=> CH3O + CO'\n",
      "at P = 1013249.9999999992 , T = 5000.0\n",
      "Invalid rate coefficient for reaction 'CH2CHOO <=> CH3O + CO'\n",
      "at P = 1013249.9999999992 , T = 10000.0\n",
      "\n",
      "CanteraWarning: Plog::validate: \n",
      "\n",
      "Invalid rate coefficient for reaction 'CH2CHOO <=> CH3 + CO2'\n",
      "at P = 10132499.999999985 , T = 500.0\n",
      "Invalid rate coefficient for reaction 'CH2CHOO <=> CH3 + CO2'\n",
      "at P = 0.0 , T = 500.0\n",
      "\n"
     ]
    },
    {
     "data": {
      "text/plain": [
       "<cantera.composite.Solution at 0x7ff07f9b19e0>"
      ]
     },
     "execution_count": 2,
     "metadata": {},
     "output_type": "execute_result"
    }
   ],
   "source": [
    "ct.Solution('/home/chao/cc_test/PLOG.yaml')"
   ]
  },
  {
   "cell_type": "markdown",
   "metadata": {},
   "source": [
    "As shown in the warning,\n",
    "```\n",
    "Invalid rate coefficient for reaction 'CH2CHOO <=> CH3O + CO'\n",
    "at P = 1013249.9999999992 , T = 200.0\n",
    "Invalid rate coefficient for reaction 'CH2CHOO <=> CH3O + CO'\n",
    "at P = 1013249.9999999992 , T = 500.0\n",
    "Invalid rate coefficient for reaction 'CH2CHOO <=> CH3O + CO'\n",
    "at P = 1013249.9999999992 , T = 1000.0\n",
    "Invalid rate coefficient for reaction 'CH2CHOO <=> CH3O + CO'\n",
    "at P = 1013249.9999999992 , T = 2000.0\n",
    "Invalid rate coefficient for reaction 'CH2CHOO <=> CH3O + CO'\n",
    "at P = 1013249.9999999992 , T = 5000.0\n",
    "Invalid rate coefficient for reaction 'CH2CHOO <=> CH3O + CO'\n",
    "at P = 1013249.9999999992 , T = 10000.0\n",
    "```\n",
    "and \n",
    "```\n",
    "Invalid rate coefficient for reaction 'CH2CHOO <=> CH3 + CO2'\n",
    "at P = 0.0 , T = 500.0\n",
    "```\n",
    "are not expected, but I cannot figure out how to fix the bug. It would be appreciated if anyone could give me a hint about how to handle the error and how to fix the bug. Please forgive me if there is any stupid error in the code.\n",
    "\n"
   ]
  }
 ],
 "metadata": {
  "kernelspec": {
   "display_name": "cantera38",
   "language": "python",
   "name": "cantera38"
  },
  "language_info": {
   "codemirror_mode": {
    "name": "ipython",
    "version": 3
   },
   "file_extension": ".py",
   "mimetype": "text/x-python",
   "name": "python",
   "nbconvert_exporter": "python",
   "pygments_lexer": "ipython3",
   "version": "3.8.2"
  }
 },
 "nbformat": 4,
 "nbformat_minor": 4
}
