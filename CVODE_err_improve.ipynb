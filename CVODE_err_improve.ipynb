{
 "cells": [
  {
   "cell_type": "code",
   "execution_count": 1,
   "metadata": {},
   "outputs": [],
   "source": [
    "import sys\n",
    "sys.executable = '/home/chao/anaconda3/envs/cantera38/lib/python3.8/site-packages'\n",
    "python_path = ['/home/chao/cantera/build/python', '/home/chao/RMG-Py', '/home/chao', '/home/chao/anaconda3/envs/cantera38/lib/python38.zip', '/home/chao/anaconda3/envs/cantera38/lib/python3.8', '/home/chao/anaconda3/envs/cantera38/lib/python3.8/lib-dynload', '/home/chao/anaconda3/envs/cantera38/lib/python3.8/site-packages']\n",
    "for path in python_path:\n",
    "    sys.path.append(path)"
   ]
  },
  {
   "cell_type": "code",
   "execution_count": 2,
   "metadata": {},
   "outputs": [
    {
     "name": "stdout",
     "output_type": "stream",
     "text": [
      "Running Cantera version: 2.5.0a4\n",
      "/home/chao/cantera/build/python/__init__.py\n"
     ]
    }
   ],
   "source": [
    "# First, import cantera, with the nickname `ct` to save us some typing later.\n",
    "import cantera as ct\n",
    "\n",
    "# Then the usual suspects:\n",
    "import numpy as np\n",
    "%matplotlib inline\n",
    "from matplotlib import pyplot as plt\n",
    "from bokeh.plotting import figure, output_file, show\n",
    "\n",
    "import cantera as ct\n",
    "print('Running Cantera version: ' + ct.__version__)\n",
    "ct.__file__ = '/home/chao/cantera/build/python/__init__.py'\n",
    "print(ct.__file__)"
   ]
  },
  {
   "cell_type": "code",
   "execution_count": 3,
   "metadata": {},
   "outputs": [
    {
     "name": "stdout",
     "output_type": "stream",
     "text": [
      "\n",
      "  gas:\n",
      "\n",
      "       temperature   300 K\n",
      "          pressure   1.0132e+05 Pa\n",
      "           density   1.138 kg/m^3\n",
      "  mean mol. weight   28.014 kg/kmol\n",
      "   phase of matter   gas\n",
      "\n",
      "                          1 kg             1 kmol     \n",
      "                     ---------------   ---------------\n",
      "          enthalpy            2076.5             58170  J\n",
      "   internal energy            -86963       -2.4362e+06  J\n",
      "           entropy            6842.9         1.917e+05  J/K\n",
      "    Gibbs function       -2.0508e+06       -5.7451e+07  J\n",
      " heat capacity c_p            1038.3             29086  J/K\n",
      " heat capacity c_v            741.47             20772  J/K\n",
      "\n",
      "                      mass frac. Y      mole frac. X     chem. pot. / RT\n",
      "                     ---------------   ---------------   ---------------\n",
      "                N2                 1                 1           -23.032\n",
      "     [ +707 minor]                 0                 0  \n",
      "\n"
     ]
    },
    {
     "data": {
      "text/plain": [
       "23060"
      ]
     },
     "execution_count": 3,
     "metadata": {},
     "output_type": "execute_result"
    }
   ],
   "source": [
    "gas = ct.Solution('cvode_error.yaml')\n",
    "gas()\n",
    "len(gas.reactions())"
   ]
  },
  {
   "cell_type": "code",
   "execution_count": 4,
   "metadata": {},
   "outputs": [],
   "source": [
    "def get_ignition_delay(temperature, pressure = 40.,\n",
    "                       stoichiometry = 1.0, plot = False):\n",
    "    \"\"\"\n",
    "    Get the ignition delay time in miliseconds, at the specified\n",
    "    temperature (K), pressure (bar), and stoichiometry \n",
    "    (stoichiometric = 1.0, fuel-rich > 1.0, oxygen-rich < 1.0).\n",
    "    Default pressure is 10.0 bar, default stoichoimetry is 1.0.\n",
    "    If plot=True then it draws a plot (default is False).\n",
    "    \"\"\"\n",
    "    oxygen_mole = 1. \n",
    "    nitrogen_mole = 4*oxygen_mole\n",
    "    heptane_mole = stoichiometry/11\n",
    "    X_string  = 'C7H16(1):0.009465215, O2(2):0.108849976, N2:0.4'\n",
    "    #X_string = 'CHPD(1):0.00622, C7H16(417):0.00463, O2(2):0.10880, N2:0.88035'                      #need change if cti changes\n",
    "\n",
    "    gas.TPX = temperature, pressure*1e5, X_string\n",
    "    reactor = ct.IdealGasReactor(gas)\n",
    "    reactor_network = ct.ReactorNet([reactor])\n",
    "\n",
    "    time = 0.0\n",
    "    end_time = 1e-1 \n",
    "    \n",
    "    # Use lists instead of arrays, so they can be any length\n",
    "    times = []\n",
    "    concentrations = []\n",
    "    pressures = []\n",
    "    temperatures = []\n",
    "    \n",
    "    print_data = True\n",
    "    while time < end_time:\n",
    "        time = reactor_network.time\n",
    "        times.append(time)\n",
    "        temperatures.append(reactor.T)\n",
    "        pressures.append(reactor.thermo.P)\n",
    "        concentrations.append(reactor.thermo.concentrations)\n",
    "        # take a timestep\n",
    "        # the size of the step will be determined by the ODE solver\n",
    "        # depending on how quickly things are changing.\n",
    "        reactor_network.step()\n",
    "    print(\"Reached end time {0:.2f} ms in {1} steps\".format(times[-1]*1e3, len(times)))\n",
    "    # convert the lists into arrays\n",
    "    concentrations = np.array(concentrations)\n",
    "    times = np.array(times)\n",
    "    pressures = np.array(pressures)\n",
    "    temperatures = np.array(temperatures)\n",
    "   \n",
    "    if plot:\n",
    "        plt.subplot(2,1,1)\n",
    "        plt.plot(times*1e3, pressures/1e5)\n",
    "        plt.ylabel(\"Pressure (bar)\", color='b')\n",
    "        ax2 = plt.gca().twinx()\n",
    "        ax2.set_ylabel('Temperature (K)', color='r')\n",
    "        ax2.plot(times*1e3, temperatures, 'r')\n",
    "    i_ch = gas.species_index('CH(16)')                                                         #need change if cti change\n",
    "    i_o2 = gas.species_index('O2(2)')                                                          #need change if cti change\n",
    "    excited_oh_generation = concentrations[:,i_o2] * concentrations[:,i_ch]\n",
    "    if plot:\n",
    "        plt.subplot(2,1,2)\n",
    "        plt.plot(times*1e3, excited_oh_generation, 'g')\n",
    "        plt.ylabel(\"OH* emission\")\n",
    "        plt.ylim(0,max(1e-18,1.1*max(excited_oh_generation)))\n",
    "        plt.xlabel(\"Time (ms)\")\n",
    "        plt.tight_layout()\n",
    "        plt.show()\n",
    "    step_with_highest_oh_gen = excited_oh_generation.argmax()\n",
    "    if step_with_highest_oh_gen > 1 and excited_oh_generation.max()>1e-20:\n",
    "        ignition_time_ms = 1e3 * times[step_with_highest_oh_gen]\n",
    "        print(\"At {0} K {1} bar, ignition delay time is {2} ms\".format(temperature, pressure, ignition_time_ms))\n",
    "        return ignition_time_ms\n",
    "    else:\n",
    "        print(\"At {0} K {1} bar, no ignition detected\".format(temperature, pressure))\n",
    "        return np.infty\n",
    "        "
   ]
  },
  {
   "cell_type": "code",
   "execution_count": 5,
   "metadata": {},
   "outputs": [
    {
     "ename": "CanteraError",
     "evalue": "\n***********************************************************************\nCanteraError thrown by CVodesIntegrator::step:\nCVodes error encountered. Error code: -3\n\nAt t = 0.000223256 and h = 1.67865e-14, the error test failed repeatedly or with |h| = hmin.\nComponents with largest weighted error estimates:\n660: 469.1331845281508 \n657: -406.8485600265133 \n7: 14.724462168490367 \n664: 0.012463966082660307 \n2: -0.006975787101004809 \n661: -0.0012161505126923986 \n14: 0.0008966877668858371 \n665: 0.0005651965912846613 \n663: 0.0005304535754452601 \n76: 5.3872026829489106e-05 \n***********************************************************************\n",
     "output_type": "error",
     "traceback": [
      "\u001b[0;31m---------------------------------------------------------------------------\u001b[0m",
      "\u001b[0;31mCanteraError\u001b[0m                              Traceback (most recent call last)",
      "\u001b[0;32m<ipython-input-5-f0998069cf95>\u001b[0m in \u001b[0;36m<module>\u001b[0;34m\u001b[0m\n\u001b[1;32m      1\u001b[0m \u001b[0;31m# before change the code\u001b[0m\u001b[0;34m\u001b[0m\u001b[0;34m\u001b[0m\u001b[0;34m\u001b[0m\u001b[0m\n\u001b[0;32m----> 2\u001b[0;31m \u001b[0mget_ignition_delay\u001b[0m\u001b[0;34m(\u001b[0m\u001b[0;36m791.7\u001b[0m\u001b[0;34m,\u001b[0m \u001b[0;36m40\u001b[0m\u001b[0;34m)\u001b[0m\u001b[0;34m\u001b[0m\u001b[0;34m\u001b[0m\u001b[0m\n\u001b[0m",
      "\u001b[0;32m<ipython-input-4-bd562a76dc04>\u001b[0m in \u001b[0;36mget_ignition_delay\u001b[0;34m(temperature, pressure, stoichiometry, plot)\u001b[0m\n\u001b[1;32m     37\u001b[0m         \u001b[0;31m# the size of the step will be determined by the ODE solver\u001b[0m\u001b[0;34m\u001b[0m\u001b[0;34m\u001b[0m\u001b[0;34m\u001b[0m\u001b[0m\n\u001b[1;32m     38\u001b[0m         \u001b[0;31m# depending on how quickly things are changing.\u001b[0m\u001b[0;34m\u001b[0m\u001b[0;34m\u001b[0m\u001b[0;34m\u001b[0m\u001b[0m\n\u001b[0;32m---> 39\u001b[0;31m         \u001b[0mreactor_network\u001b[0m\u001b[0;34m.\u001b[0m\u001b[0mstep\u001b[0m\u001b[0;34m(\u001b[0m\u001b[0;34m)\u001b[0m\u001b[0;34m\u001b[0m\u001b[0;34m\u001b[0m\u001b[0m\n\u001b[0m\u001b[1;32m     40\u001b[0m     \u001b[0mprint\u001b[0m\u001b[0;34m(\u001b[0m\u001b[0;34m\"Reached end time {0:.2f} ms in {1} steps\"\u001b[0m\u001b[0;34m.\u001b[0m\u001b[0mformat\u001b[0m\u001b[0;34m(\u001b[0m\u001b[0mtimes\u001b[0m\u001b[0;34m[\u001b[0m\u001b[0;34m-\u001b[0m\u001b[0;36m1\u001b[0m\u001b[0;34m]\u001b[0m\u001b[0;34m*\u001b[0m\u001b[0;36m1e3\u001b[0m\u001b[0;34m,\u001b[0m \u001b[0mlen\u001b[0m\u001b[0;34m(\u001b[0m\u001b[0mtimes\u001b[0m\u001b[0;34m)\u001b[0m\u001b[0;34m)\u001b[0m\u001b[0;34m)\u001b[0m\u001b[0;34m\u001b[0m\u001b[0;34m\u001b[0m\u001b[0m\n\u001b[1;32m     41\u001b[0m     \u001b[0;31m# convert the lists into arrays\u001b[0m\u001b[0;34m\u001b[0m\u001b[0;34m\u001b[0m\u001b[0;34m\u001b[0m\u001b[0m\n",
      "\u001b[0;32minterfaces/cython/cantera/reactor.pyx\u001b[0m in \u001b[0;36mcantera._cantera.ReactorNet.step\u001b[0;34m()\u001b[0m\n",
      "\u001b[0;31mCanteraError\u001b[0m: \n***********************************************************************\nCanteraError thrown by CVodesIntegrator::step:\nCVodes error encountered. Error code: -3\n\nAt t = 0.000223256 and h = 1.67865e-14, the error test failed repeatedly or with |h| = hmin.\nComponents with largest weighted error estimates:\n660: 469.1331845281508 \n657: -406.8485600265133 \n7: 14.724462168490367 \n664: 0.012463966082660307 \n2: -0.006975787101004809 \n661: -0.0012161505126923986 \n14: 0.0008966877668858371 \n665: 0.0005651965912846613 \n663: 0.0005304535754452601 \n76: 5.3872026829489106e-05 \n***********************************************************************\n"
     ]
    }
   ],
   "source": [
    "# before change the code \n",
    "get_ignition_delay(791.7, 40)"
   ]
  },
  {
   "cell_type": "code",
   "execution_count": 5,
   "metadata": {},
   "outputs": [
    {
     "ename": "CanteraError",
     "evalue": "\n***********************************************************************\nCanteraError thrown by ReactorNet::componentName:\nIndex out of bounds\n***********************************************************************\n",
     "output_type": "error",
     "traceback": [
      "\u001b[0;31m---------------------------------------------------------------------------\u001b[0m",
      "\u001b[0;31mCanteraError\u001b[0m                              Traceback (most recent call last)",
      "\u001b[0;32m<ipython-input-5-7984e033d3a6>\u001b[0m in \u001b[0;36m<module>\u001b[0;34m\u001b[0m\n\u001b[0;32m----> 1\u001b[0;31m \u001b[0mget_ignition_delay\u001b[0m\u001b[0;34m(\u001b[0m\u001b[0;36m791.7\u001b[0m\u001b[0;34m,\u001b[0m \u001b[0;36m40\u001b[0m\u001b[0;34m)\u001b[0m\u001b[0;34m\u001b[0m\u001b[0;34m\u001b[0m\u001b[0m\n\u001b[0m",
      "\u001b[0;32m<ipython-input-4-bd562a76dc04>\u001b[0m in \u001b[0;36mget_ignition_delay\u001b[0;34m(temperature, pressure, stoichiometry, plot)\u001b[0m\n\u001b[1;32m     37\u001b[0m         \u001b[0;31m# the size of the step will be determined by the ODE solver\u001b[0m\u001b[0;34m\u001b[0m\u001b[0;34m\u001b[0m\u001b[0;34m\u001b[0m\u001b[0m\n\u001b[1;32m     38\u001b[0m         \u001b[0;31m# depending on how quickly things are changing.\u001b[0m\u001b[0;34m\u001b[0m\u001b[0;34m\u001b[0m\u001b[0;34m\u001b[0m\u001b[0m\n\u001b[0;32m---> 39\u001b[0;31m         \u001b[0mreactor_network\u001b[0m\u001b[0;34m.\u001b[0m\u001b[0mstep\u001b[0m\u001b[0;34m(\u001b[0m\u001b[0;34m)\u001b[0m\u001b[0;34m\u001b[0m\u001b[0;34m\u001b[0m\u001b[0m\n\u001b[0m\u001b[1;32m     40\u001b[0m     \u001b[0mprint\u001b[0m\u001b[0;34m(\u001b[0m\u001b[0;34m\"Reached end time {0:.2f} ms in {1} steps\"\u001b[0m\u001b[0;34m.\u001b[0m\u001b[0mformat\u001b[0m\u001b[0;34m(\u001b[0m\u001b[0mtimes\u001b[0m\u001b[0;34m[\u001b[0m\u001b[0;34m-\u001b[0m\u001b[0;36m1\u001b[0m\u001b[0;34m]\u001b[0m\u001b[0;34m*\u001b[0m\u001b[0;36m1e3\u001b[0m\u001b[0;34m,\u001b[0m \u001b[0mlen\u001b[0m\u001b[0;34m(\u001b[0m\u001b[0mtimes\u001b[0m\u001b[0;34m)\u001b[0m\u001b[0;34m)\u001b[0m\u001b[0;34m)\u001b[0m\u001b[0;34m\u001b[0m\u001b[0;34m\u001b[0m\u001b[0m\n\u001b[1;32m     41\u001b[0m     \u001b[0;31m# convert the lists into arrays\u001b[0m\u001b[0;34m\u001b[0m\u001b[0;34m\u001b[0m\u001b[0;34m\u001b[0m\u001b[0m\n",
      "\u001b[0;32minterfaces/cython/cantera/reactor.pyx\u001b[0m in \u001b[0;36mcantera._cantera.ReactorNet.step\u001b[0;34m()\u001b[0m\n",
      "\u001b[0;31mCanteraError\u001b[0m: \n***********************************************************************\nCanteraError thrown by ReactorNet::componentName:\nIndex out of bounds\n***********************************************************************\n"
     ]
    }
   ],
   "source": [
    "# after change the code \n",
    "get_ignition_delay(791.7, 40)"
   ]
  },
  {
   "cell_type": "markdown",
   "metadata": {},
   "source": [
    "To prove the indices are not out of bound, I use the component_name function to return the component names of the indices shown in the CVODE error message"
   ]
  },
  {
   "cell_type": "code",
   "execution_count": 6,
   "metadata": {},
   "outputs": [
    {
     "name": "stdout",
     "output_type": "stream",
     "text": [
      "IdealGasReactor_3: S(30684)\n",
      "IdealGasReactor_3: H(3)\n",
      "IdealGasReactor_3: S(31941)\n",
      "IdealGasReactor_3: HO2(10)\n",
      "IdealGasReactor_3: S(31942)\n",
      "IdealGasReactor_3: S(31940)\n",
      "IdealGasReactor_3: C7H15(72)\n"
     ]
    }
   ],
   "source": [
    "def exception():\n",
    "    try:\n",
    "        get_ignition_delay(791.7, 40)\n",
    "    except Exception as e:\n",
    "        return str(e)\n",
    "e = exception()\n",
    "oxygen_mole = 1. \n",
    "nitrogen_mole = 4*oxygen_mole\n",
    "heptane_mole = 1/11\n",
    "X_string  = 'C7H16(1):0.009465215, O2(2):0.108849976, N2:0.4'\n",
    "#X_string = 'CHPD(1):0.00622, C7H16(417):0.00463, O2(2):0.10880, N2:0.88035'                      #need change if cti changes\n",
    "\n",
    "gas.TPX = 791.7, 40*1e5, X_string\n",
    "reactor = ct.IdealGasReactor(gas)\n",
    "reactor_network = ct.ReactorNet([reactor])\n",
    "import re\n",
    "b = re.findall(\"\\d+: \\d+\\.\\d+\", e)\n",
    "for string in b:\n",
    "    component_index = int(string.split()[0][:-1])\n",
    "    print(reactor_network.component_name(component_index))"
   ]
  }
 ],
 "metadata": {
  "kernelspec": {
   "display_name": "cantera38",
   "language": "python",
   "name": "cantera38"
  },
  "language_info": {
   "codemirror_mode": {
    "name": "ipython",
    "version": 3
   },
   "file_extension": ".py",
   "mimetype": "text/x-python",
   "name": "python",
   "nbconvert_exporter": "python",
   "pygments_lexer": "ipython3",
   "version": "3.8.2"
  }
 },
 "nbformat": 4,
 "nbformat_minor": 4
}
