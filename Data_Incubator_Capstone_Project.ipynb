{
 "cells": [
  {
   "cell_type": "markdown",
   "metadata": {},
   "source": [
    "# Exploratory Analysis\n",
    "\n",
    " This is the exploratory analysis based on the rodent inspection in New York. This analysis is aimed to analyze the rodent inspection requirements in New York over the past 10 years to predict the rodent population change in New York. The dataset is downloaded from https://data.cityofnewyork.us/Health/Rodent-Inspection/p937-wjvj, "
   ]
  },
  {
   "cell_type": "code",
   "execution_count": 1,
   "metadata": {},
   "outputs": [],
   "source": [
    "import pandas as pd\n",
    "import numpy as np\n",
    "import matplotlib.pyplot as plt\n",
    "import geopandas as gpd"
   ]
  },
  {
   "cell_type": "code",
   "execution_count": 2,
   "metadata": {},
   "outputs": [
    {
     "data": {
      "text/html": [
       "<div>\n",
       "<style scoped>\n",
       "    .dataframe tbody tr th:only-of-type {\n",
       "        vertical-align: middle;\n",
       "    }\n",
       "\n",
       "    .dataframe tbody tr th {\n",
       "        vertical-align: top;\n",
       "    }\n",
       "\n",
       "    .dataframe thead th {\n",
       "        text-align: right;\n",
       "    }\n",
       "</style>\n",
       "<table border=\"1\" class=\"dataframe\">\n",
       "  <thead>\n",
       "    <tr style=\"text-align: right;\">\n",
       "      <th></th>\n",
       "      <th>INSPECTION_TYPE</th>\n",
       "      <th>JOB_TICKET_OR_WORK_ORDER_ID</th>\n",
       "      <th>JOB_ID</th>\n",
       "      <th>JOB_PROGRESS</th>\n",
       "      <th>BBL</th>\n",
       "      <th>BORO_CODE</th>\n",
       "      <th>BLOCK</th>\n",
       "      <th>LOT</th>\n",
       "      <th>HOUSE_NUMBER</th>\n",
       "      <th>STREET_NAME</th>\n",
       "      <th>ZIP_CODE</th>\n",
       "      <th>X_COORD</th>\n",
       "      <th>Y_COORD</th>\n",
       "      <th>LATITUDE</th>\n",
       "      <th>LONGITUDE</th>\n",
       "      <th>BOROUGH</th>\n",
       "      <th>INSPECTION_DATE</th>\n",
       "      <th>RESULT</th>\n",
       "      <th>APPROVED_DATE</th>\n",
       "      <th>LOCATION</th>\n",
       "    </tr>\n",
       "  </thead>\n",
       "  <tbody>\n",
       "    <tr>\n",
       "      <th>0</th>\n",
       "      <td>INITIAL</td>\n",
       "      <td>1477376</td>\n",
       "      <td>PO1477376</td>\n",
       "      <td>1</td>\n",
       "      <td>3030820047</td>\n",
       "      <td>3</td>\n",
       "      <td>3082</td>\n",
       "      <td>47</td>\n",
       "      <td>71</td>\n",
       "      <td>WHITE ST</td>\n",
       "      <td>11206.0</td>\n",
       "      <td>1002123.0</td>\n",
       "      <td>196551.0</td>\n",
       "      <td>40.706139</td>\n",
       "      <td>-73.935536</td>\n",
       "      <td>Brooklyn</td>\n",
       "      <td>08/02/2017 02:27:38 PM</td>\n",
       "      <td>Active Rat Signs</td>\n",
       "      <td>08/04/2017 09:20:05 AM</td>\n",
       "      <td>(40.706138857298, -73.935535793927)</td>\n",
       "    </tr>\n",
       "    <tr>\n",
       "      <th>1</th>\n",
       "      <td>INITIAL</td>\n",
       "      <td>1475045</td>\n",
       "      <td>PO1475045</td>\n",
       "      <td>1</td>\n",
       "      <td>4114050014</td>\n",
       "      <td>4</td>\n",
       "      <td>11405</td>\n",
       "      <td>14</td>\n",
       "      <td>90-14</td>\n",
       "      <td>SPRITZ ROAD</td>\n",
       "      <td>11417.0</td>\n",
       "      <td>1027048.0</td>\n",
       "      <td>184240.0</td>\n",
       "      <td>40.672262</td>\n",
       "      <td>-73.845715</td>\n",
       "      <td>Queens</td>\n",
       "      <td>08/03/2017 09:55:13 AM</td>\n",
       "      <td>Passed Inspection</td>\n",
       "      <td>08/04/2017 03:38:17 PM</td>\n",
       "      <td>(40.672262220686, -73.845715127375)</td>\n",
       "    </tr>\n",
       "    <tr>\n",
       "      <th>2</th>\n",
       "      <td>INITIAL</td>\n",
       "      <td>1452020</td>\n",
       "      <td>PO1452020</td>\n",
       "      <td>1</td>\n",
       "      <td>5047260021</td>\n",
       "      <td>5</td>\n",
       "      <td>4726</td>\n",
       "      <td>21</td>\n",
       "      <td>566</td>\n",
       "      <td>PENDALE STREET</td>\n",
       "      <td>10306.0</td>\n",
       "      <td>950078.0</td>\n",
       "      <td>142898.0</td>\n",
       "      <td>40.558825</td>\n",
       "      <td>-74.122979</td>\n",
       "      <td>Staten Island</td>\n",
       "      <td>08/04/2017 03:45:29 PM</td>\n",
       "      <td>Passed Inspection</td>\n",
       "      <td>08/07/2017 10:33:10 AM</td>\n",
       "      <td>(40.558825095548, -74.12297853578)</td>\n",
       "    </tr>\n",
       "    <tr>\n",
       "      <th>3</th>\n",
       "      <td>INITIAL</td>\n",
       "      <td>1477484</td>\n",
       "      <td>PO1477484</td>\n",
       "      <td>1</td>\n",
       "      <td>3064370028</td>\n",
       "      <td>3</td>\n",
       "      <td>6437</td>\n",
       "      <td>28</td>\n",
       "      <td>173</td>\n",
       "      <td>BAY 19TH STREET</td>\n",
       "      <td>11214.0</td>\n",
       "      <td>982644.0</td>\n",
       "      <td>159091.0</td>\n",
       "      <td>40.603337</td>\n",
       "      <td>-74.005784</td>\n",
       "      <td>Brooklyn</td>\n",
       "      <td>08/01/2017 02:00:29 PM</td>\n",
       "      <td>Passed Inspection</td>\n",
       "      <td>08/07/2017 01:54:46 PM</td>\n",
       "      <td>(40.603337405696, -74.005783555146)</td>\n",
       "    </tr>\n",
       "    <tr>\n",
       "      <th>4</th>\n",
       "      <td>INITIAL</td>\n",
       "      <td>1461449</td>\n",
       "      <td>PO1461449</td>\n",
       "      <td>1</td>\n",
       "      <td>2022800130</td>\n",
       "      <td>2</td>\n",
       "      <td>2280</td>\n",
       "      <td>130</td>\n",
       "      <td>448</td>\n",
       "      <td>EAST 136TH STREET</td>\n",
       "      <td>10454.0</td>\n",
       "      <td>1005678.0</td>\n",
       "      <td>233399.0</td>\n",
       "      <td>40.807270</td>\n",
       "      <td>-73.922596</td>\n",
       "      <td>Bronx</td>\n",
       "      <td>08/04/2017 09:55:51 AM</td>\n",
       "      <td>Passed Inspection</td>\n",
       "      <td>08/07/2017 09:43:00 AM</td>\n",
       "      <td>(40.807269769566, -73.922595760958)</td>\n",
       "    </tr>\n",
       "  </tbody>\n",
       "</table>\n",
       "</div>"
      ],
      "text/plain": [
       "  INSPECTION_TYPE  JOB_TICKET_OR_WORK_ORDER_ID     JOB_ID  JOB_PROGRESS  \\\n",
       "0         INITIAL                      1477376  PO1477376             1   \n",
       "1         INITIAL                      1475045  PO1475045             1   \n",
       "2         INITIAL                      1452020  PO1452020             1   \n",
       "3         INITIAL                      1477484  PO1477484             1   \n",
       "4         INITIAL                      1461449  PO1461449             1   \n",
       "\n",
       "          BBL  BORO_CODE  BLOCK  LOT HOUSE_NUMBER        STREET_NAME  \\\n",
       "0  3030820047          3   3082   47           71           WHITE ST   \n",
       "1  4114050014          4  11405   14        90-14        SPRITZ ROAD   \n",
       "2  5047260021          5   4726   21          566     PENDALE STREET   \n",
       "3  3064370028          3   6437   28          173    BAY 19TH STREET   \n",
       "4  2022800130          2   2280  130          448  EAST 136TH STREET   \n",
       "\n",
       "   ZIP_CODE    X_COORD   Y_COORD   LATITUDE  LONGITUDE        BOROUGH  \\\n",
       "0   11206.0  1002123.0  196551.0  40.706139 -73.935536       Brooklyn   \n",
       "1   11417.0  1027048.0  184240.0  40.672262 -73.845715         Queens   \n",
       "2   10306.0   950078.0  142898.0  40.558825 -74.122979  Staten Island   \n",
       "3   11214.0   982644.0  159091.0  40.603337 -74.005784       Brooklyn   \n",
       "4   10454.0  1005678.0  233399.0  40.807270 -73.922596          Bronx   \n",
       "\n",
       "          INSPECTION_DATE             RESULT           APPROVED_DATE  \\\n",
       "0  08/02/2017 02:27:38 PM   Active Rat Signs  08/04/2017 09:20:05 AM   \n",
       "1  08/03/2017 09:55:13 AM  Passed Inspection  08/04/2017 03:38:17 PM   \n",
       "2  08/04/2017 03:45:29 PM  Passed Inspection  08/07/2017 10:33:10 AM   \n",
       "3  08/01/2017 02:00:29 PM  Passed Inspection  08/07/2017 01:54:46 PM   \n",
       "4  08/04/2017 09:55:51 AM  Passed Inspection  08/07/2017 09:43:00 AM   \n",
       "\n",
       "                              LOCATION  \n",
       "0  (40.706138857298, -73.935535793927)  \n",
       "1  (40.672262220686, -73.845715127375)  \n",
       "2   (40.558825095548, -74.12297853578)  \n",
       "3  (40.603337405696, -74.005783555146)  \n",
       "4  (40.807269769566, -73.922595760958)  "
      ]
     },
     "execution_count": 2,
     "metadata": {},
     "output_type": "execute_result"
    }
   ],
   "source": [
    "df = pd.read_csv('Rodent_Inspection.csv')\n",
    "df.head(5)"
   ]
  },
  {
   "cell_type": "markdown",
   "metadata": {},
   "source": [
    "To understand the trend, I firstly plot the total Roment innpection number in New York over the past 10 years, and it is clearly showed that the inspection times is increasing in recent 4 years(2016-2019)"
   ]
  },
  {
   "cell_type": "code",
   "execution_count": 3,
   "metadata": {},
   "outputs": [
    {
     "data": {
      "image/png": "[encoded data removed]",
      "text/plain": [
       "<Figure size 432x288 with 1 Axes>"
      ]
     },
     "metadata": {
      "needs_background": "light"
     },
     "output_type": "display_data"
    }
   ],
   "source": [
    "date = list(df['APPROVED_DATE'])\n",
    "years = []\n",
    "for i in date:\n",
    "    year = str(i).split()[0][6:11]\n",
    "    years.append(year)\n",
    "df['year'] = years\n",
    "df_2019 = df[(df['year'] == '2019')]\n",
    "df_2018 = df[(df['year'] == '2018')]\n",
    "df_2017 = df[(df['year'] == '2017')]\n",
    "df_2016 = df[(df['year'] == '2016')]\n",
    "df_2015 = df[(df['year'] == '2015')]\n",
    "df_2014 = df[(df['year'] == '2014')]\n",
    "df_2013 = df[(df['year'] == '2013')]\n",
    "df_2012 = df[(df['year'] == '2012')]\n",
    "df_2011 = df[(df['year'] == '2011')]\n",
    "df_2010 = df[(df['year'] == '2010')]\n",
    "total_inspection = [len(df_2019), len(df_2018), len(df_2017),len(df_2016),len(df_2015),len(df_2014),\n",
    "                   len(df_2013), len(df_2012), len(df_2011), len(df_2010)]\n",
    "years = np.arange(2010, 2020)[::-1]\n",
    "y_pos = np.arange(len(years))\n",
    "plt.bar(y_pos, total_inspection, align='center', alpha=0.5)\n",
    "plt.xticks(y_pos, years)\n",
    "plt.ylabel('Total Inspection Number in New York')\n",
    "plt.title('Total Rodent Inspetion Number in 10 years')\n",
    "plt.show()"
   ]
  },
  {
   "cell_type": "markdown",
   "metadata": {},
   "source": [
    "I also want to look at which area has the most inspection number in 2019 based on zip code, which means at that area the rodent population is the highest. By comparing the data from 2017-2019, the region with most rodent population can be selected according to the comparison among the three figures."
   ]
  },
  {
   "cell_type": "code",
   "execution_count": 4,
   "metadata": {},
   "outputs": [
    {
     "data": {
      "image/png": "[encoded data removed]",
      "text/plain": [
       "<Figure size 432x288 with 1 Axes>"
      ]
     },
     "metadata": {
      "needs_background": "light"
     },
     "output_type": "display_data"
    },
    {
     "data": {
      "image/png": "[encoded data removed]",
      "text/plain": [
       "<Figure size 432x288 with 1 Axes>"
      ]
     },
     "metadata": {
      "needs_background": "light"
     },
     "output_type": "display_data"
    },
    {
     "data": {
      "image/png": "[encoded data removed]",
      "text/plain": [
       "<Figure size 432x288 with 1 Axes>"
      ]
     },
     "metadata": {
      "needs_background": "light"
     },
     "output_type": "display_data"
    }
   ],
   "source": [
    "df_10 = pd.concat([df_2019, df_2018, df_2017, df_2016, df_2015, df_2014, df_2013, df_2012, df_2011, df_2010])\n",
    "df_date = df_10.groupby(['year'])\n",
    "#df_it.groups.keys()\n",
    "\n",
    "df_2019 = df_date.get_group('2019')\n",
    "df_2019_zc = df_2019.groupby('ZIP_CODE')\n",
    "keys = list(df_2019_zc.groups.keys())\n",
    "inspection_nums = []\n",
    "for key in keys:\n",
    "    inspection_num = len(df_2019_zc.get_group(key).loc[:, 'INSPECTION_TYPE'])\n",
    "    inspection_nums.append(inspection_num)\n",
    "y_pos = np.arange(len(keys))\n",
    "plt.bar(y_pos, inspection_nums, align='center', alpha=0.5)\n",
    "plt.xticks(y_pos, keys)\n",
    "plt.ylabel('inspection number')\n",
    "plt.title('inspection number in different area 2019')\n",
    "plt.show()\n",
    "df_2018 = df_date.get_group('2018')\n",
    "df_2018_zc = df_2018.groupby('ZIP_CODE')\n",
    "keys = list(df_2018_zc.groups.keys())\n",
    "inspection_nums = []\n",
    "for key in keys:\n",
    "    inspection_num = len(df_2018_zc.get_group(key).loc[:, 'INSPECTION_TYPE'])\n",
    "    inspection_nums.append(inspection_num)\n",
    "y_pos = np.arange(len(keys))\n",
    "plt.bar(y_pos, inspection_nums, align='center', alpha=0.5)\n",
    "plt.xticks(y_pos, keys)\n",
    "plt.ylabel('inspection number')\n",
    "plt.title('inspection number in different area 2018')\n",
    "plt.show()\n",
    "df_2017 = df_date.get_group('2017')\n",
    "df_2017_zc = df_2017.groupby('ZIP_CODE')\n",
    "keys = list(df_2017_zc.groups.keys())\n",
    "inspection_nums = []\n",
    "for key in keys:\n",
    "    inspection_num = len(df_2017_zc.get_group(key).loc[:, 'INSPECTION_TYPE'])\n",
    "    inspection_nums.append(inspection_num)\n",
    "y_pos = np.arange(len(keys))\n",
    "plt.bar(y_pos, inspection_nums, align='center', alpha=0.5)\n",
    "plt.xticks(y_pos, keys)\n",
    "plt.ylabel('inspection number')\n",
    "plt.title('inspection number in different area 2017')\n",
    "plt.show()"
   ]
  }
 ],
 "metadata": {
  "kernelspec": {
   "display_name": "di_env",
   "language": "python",
   "name": "di_env"
  },
  "language_info": {
   "codemirror_mode": {
    "name": "ipython",
    "version": 3
   },
   "file_extension": ".py",
   "mimetype": "text/x-python",
   "name": "python",
   "nbconvert_exporter": "python",
   "pygments_lexer": "ipython3",
   "version": "3.8.2"
  }
 },
 "nbformat": 4,
 "nbformat_minor": 4
}
